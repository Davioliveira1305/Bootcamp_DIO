{
  "nbformat": 4,
  "nbformat_minor": 0,
  "metadata": {
    "colab": {
      "provenance": [],
      "authorship_tag": "ABX9TyNQ2LRCJHKnxiQ7hJ+/rKtV",
      "include_colab_link": true
    },
    "kernelspec": {
      "name": "python3",
      "display_name": "Python 3"
    },
    "language_info": {
      "name": "python"
    }
  },
  "cells": [
    {
      "cell_type": "markdown",
      "metadata": {
        "id": "view-in-github",
        "colab_type": "text"
      },
      "source": [
        "<a href=\"https://colab.research.google.com/github/Davioliveira1305/Bootcamp_DIO/blob/main/Desafio.ipynb\" target=\"_parent\"><img src=\"https://colab.research.google.com/assets/colab-badge.svg\" alt=\"Open In Colab\"/></a>"
      ]
    },
    {
      "cell_type": "code",
      "execution_count": 5,
      "metadata": {
        "colab": {
          "base_uri": "https://localhost:8080/"
        },
        "id": "lxd6ajnBw563",
        "outputId": "1b0d1e52-7e18-48b8-d287-dac3462ff7f4"
      },
      "outputs": [
        {
          "name": "stdout",
          "output_type": "stream",
          "text": [
            "Digite a opção que você deseja: 4\n"
          ]
        }
      ],
      "source": [
        "menu = \"\"\"\n",
        "\n",
        "[1] Depositar\n",
        "[2] Sacar\n",
        "[3] Extrato\n",
        "[4] Sair\n",
        "\n",
        "=> \"\"\"\n",
        "\n",
        "saldo = 0\n",
        "limite = 500\n",
        "extrato = \"\"\n",
        "numero_saques = 0\n",
        "LIMITE_SAQUES = 3\n",
        "\n",
        "while True:\n",
        "\n",
        "  opcao = int(input('Digite a opção que você deseja: '))\n",
        "\n",
        "  if opcao == 1:\n",
        "    deposito = float(input('Informe o valor do depósito: '))\n",
        "\n",
        "    if deposito > 0:\n",
        "      saldo += deposito\n",
        "      extrato += f\"Depósito: R$ {deposito:.2f}\\n\"\n",
        "\n",
        "    else: print('Operação recusada! Você não depositar valores negativos.')\n",
        "\n",
        "  elif opcao == 2:\n",
        "    saque = float(input('Informe o valor de saque: '))\n",
        "\n",
        "    if saque > limite: print('Operação recusada!!! Limite de saque ultrapassado')\n",
        "    elif saque > saldo: print('Operação recusada!!! Saldo insuficiente')\n",
        "    elif numero_saques >= LIMITE_SAQUES: print(f'Operação recusada!!! Número máximo de saques atingido.')\n",
        "    elif saque > 0:\n",
        "      saldo -= saque\n",
        "      extrato += f'Saque: R$ {saque:.2f}\\n'\n",
        "      numero_saques += 1\n",
        "    else: print('Operação recusada!!! Você não pode sacar valores negativos')\n",
        "\n",
        "  elif opcao == 3:\n",
        "    print(\"\\n================ EXTRATO ================\")\n",
        "    print(\"Não foram realizadas movimentações.\" if not extrato else extrato)\n",
        "    print(f\"\\nSaldo: R$ {saldo:.2f}\")\n",
        "    print(\"==========================================\")\n",
        "\n",
        "  elif opcao == 4:\n",
        "      break\n",
        "\n",
        "  else: print('Operação inválida!!!!')\n",
        "\n"
      ]
    }
  ]
}